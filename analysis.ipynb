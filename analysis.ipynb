{
  "nbformat": 4,
  "nbformat_minor": 0,
  "metadata": {
    "colab": {
      "provenance": [],
      "authorship_tag": "ABX9TyPJGIGAYoZ+eCgfKMprvOLc",
      "include_colab_link": true
    },
    "kernelspec": {
      "name": "python3",
      "display_name": "Python 3"
    },
    "language_info": {
      "name": "python"
    }
  },
  "cells": [
    {
      "cell_type": "markdown",
      "metadata": {
        "id": "view-in-github",
        "colab_type": "text"
      },
      "source": [
        "<a href=\"https://colab.research.google.com/github/nessachen/module1-codexes-claims-analysis/blob/main/analysis.ipynb\" target=\"_parent\"><img src=\"https://colab.research.google.com/assets/colab-badge.svg\" alt=\"Open In Colab\"/></a>"
      ]
    },
    {
      "cell_type": "code",
      "execution_count": 71,
      "metadata": {
        "id": "8wa_Iv78EAdB"
      },
      "outputs": [],
      "source": [
        "import pandas as pd"
      ]
    },
    {
      "cell_type": "code",
      "source": [
        "df = pd.read_csv('https://data.cms.gov/sites/default/files/2023-04/67157de9-d962-4af0-bf0e-3578b3afec58/inpatient.csv', sep = '|')"
      ],
      "metadata": {
        "colab": {
          "base_uri": "https://localhost:8080/"
        },
        "collapsed": true,
        "id": "NGOamFz7FDLh",
        "outputId": "531eb036-dcb3-4a2c-cce5-0aad1c82b3f3"
      },
      "execution_count": 72,
      "outputs": [
        {
          "output_type": "stream",
          "name": "stderr",
          "text": [
            "<ipython-input-72-d205db3038f8>:1: DtypeWarning: Columns (168,169,170,171,172,173,174,175,176,177,178,179,180,181,182,183,184,185,186,187,188,189) have mixed types. Specify dtype option on import or set low_memory=False.\n",
            "  df = pd.read_csv('https://data.cms.gov/sites/default/files/2023-04/67157de9-d962-4af0-bf0e-3578b3afec58/inpatient.csv', sep = '|')\n"
          ]
        }
      ]
    },
    {
      "cell_type": "code",
      "source": [
        "print(df.head(10))"
      ],
      "metadata": {
        "colab": {
          "base_uri": "https://localhost:8080/"
        },
        "collapsed": true,
        "id": "ivFwiGrLF6Ll",
        "outputId": "23391197-cfdd-4dfd-9a09-2e45020cdf56"
      },
      "execution_count": 73,
      "outputs": [
        {
          "output_type": "stream",
          "name": "stdout",
          "text": [
            "          BENE_ID          CLM_ID NCH_NEAR_LINE_REC_IDENT_CD  NCH_CLM_TYPE_CD  \\\n",
            "0 -10000010254618 -10000930037831                          V               60   \n",
            "1 -10000010254653 -10000930038030                          V               60   \n",
            "2 -10000010254653 -10000930038031                          V               60   \n",
            "3 -10000010254656 -10000930038162                          V               60   \n",
            "4 -10000010254656 -10000930038162                          V               60   \n",
            "5 -10000010254656 -10000930038163                          V               60   \n",
            "6 -10000010254656 -10000930038164                          V               60   \n",
            "7 -10000010254666 -10000930038283                          V               60   \n",
            "8 -10000010254682 -10000930038442                          V               60   \n",
            "9 -10000010254682 -10000930038442                          V               60   \n",
            "\n",
            "   CLM_FROM_DT  CLM_THRU_DT NCH_WKLY_PROC_DT  FI_CLM_PROC_DT  \\\n",
            "0  25-Mar-2015  25-Mar-2015      27-Mar-2015             NaN   \n",
            "1  24-Sep-2015  24-Sep-2015      25-Sep-2015             NaN   \n",
            "2  09-May-2017  10-May-2017      12-May-2017             NaN   \n",
            "3  14-Jan-2017  14-Jan-2017      20-Jan-2017             NaN   \n",
            "4  14-Jan-2017  14-Jan-2017      20-Jan-2017             NaN   \n",
            "5  17-Mar-2018  17-Mar-2018      23-Mar-2018             NaN   \n",
            "6  12-Mar-2022  12-Mar-2022      18-Mar-2022             NaN   \n",
            "7  21-Mar-2015  21-Mar-2015      27-Mar-2015             NaN   \n",
            "8  30-Apr-2021  30-Apr-2021      07-May-2021             NaN   \n",
            "9  30-Apr-2021  30-Apr-2021      07-May-2021             NaN   \n",
            "\n",
            "   CLAIM_QUERY_CODE PRVDR_NUM  ...  PRCDR_DT24  ICD_PRCDR_CD25  PRCDR_DT25  \\\n",
            "0                 3    011500  ...         NaN             NaN         NaN   \n",
            "1                 3    017129  ...         NaN             NaN         NaN   \n",
            "2                 3    010052  ...         NaN             NaN         NaN   \n",
            "3                 3    015455  ...         NaN             NaN         NaN   \n",
            "4                 3    015455  ...         NaN             NaN         NaN   \n",
            "5                 3    015455  ...         NaN             NaN         NaN   \n",
            "6                 3    015455  ...         NaN             NaN         NaN   \n",
            "7                 3    010131  ...         NaN             NaN         NaN   \n",
            "8                 3    013926  ...         NaN             NaN         NaN   \n",
            "9                 3    013926  ...         NaN             NaN         NaN   \n",
            "\n",
            "   IME_OP_CLM_VAL_AMT DSH_OP_CLM_VAL_AMT  CLM_UNCOMPD_CARE_PMT_AMT  \\\n",
            "0                   0                  0                       NaN   \n",
            "1                   0                  0                       NaN   \n",
            "2                   0                  0                       NaN   \n",
            "3                   0                  0                       NaN   \n",
            "4                   0                  0                       NaN   \n",
            "5                   0                  0                       NaN   \n",
            "6                   0                  0                       NaN   \n",
            "7                   0                  0                       NaN   \n",
            "8                   0                  0                       NaN   \n",
            "9                   0                  0                       NaN   \n",
            "\n",
            "   CLM_LINE_NUM REV_CNTR  HCPCS_CD  REV_CNTR_DDCTBL_COINSRNC_CD  \n",
            "0             1      450     99221                          NaN  \n",
            "1             1      450     99221                          NaN  \n",
            "2             1        1     99024                          3.0  \n",
            "3             1      450     73610                          3.0  \n",
            "4             2      450     29515                          3.0  \n",
            "5             1      450     99221                          NaN  \n",
            "6             1      450     99221                          NaN  \n",
            "7             1      450     95953                          3.0  \n",
            "8             1      450     73610                          3.0  \n",
            "9             2      450     29515                          3.0  \n",
            "\n",
            "[10 rows x 197 columns]\n"
          ]
        }
      ]
    },
    {
      "cell_type": "code",
      "source": [
        "for x in df.columns:\n",
        "  print(x)"
      ],
      "metadata": {
        "colab": {
          "base_uri": "https://localhost:8080/"
        },
        "collapsed": true,
        "id": "NdUgA3CC6_HI",
        "outputId": "bfbcf975-6f66-4517-f084-72476d170d4b"
      },
      "execution_count": 74,
      "outputs": [
        {
          "output_type": "stream",
          "name": "stdout",
          "text": [
            "BENE_ID\n",
            "CLM_ID\n",
            "NCH_NEAR_LINE_REC_IDENT_CD\n",
            "NCH_CLM_TYPE_CD\n",
            "CLM_FROM_DT\n",
            "CLM_THRU_DT\n",
            "NCH_WKLY_PROC_DT\n",
            "FI_CLM_PROC_DT\n",
            "CLAIM_QUERY_CODE\n",
            "PRVDR_NUM\n",
            "CLM_FAC_TYPE_CD\n",
            "CLM_SRVC_CLSFCTN_TYPE_CD\n",
            "CLM_FREQ_CD\n",
            "FI_NUM\n",
            "CLM_MDCR_NON_PMT_RSN_CD\n",
            "CLM_PMT_AMT\n",
            "NCH_PRMRY_PYR_CLM_PD_AMT\n",
            "NCH_PRMRY_PYR_CD\n",
            "FI_CLM_ACTN_CD\n",
            "PRVDR_STATE_CD\n",
            "ORG_NPI_NUM\n",
            "AT_PHYSN_UPIN\n",
            "AT_PHYSN_NPI\n",
            "OP_PHYSN_UPIN\n",
            "OP_PHYSN_NPI\n",
            "OT_PHYSN_UPIN\n",
            "OT_PHYSN_NPI\n",
            "CLM_MCO_PD_SW\n",
            "PTNT_DSCHRG_STUS_CD\n",
            "CLM_PPS_IND_CD\n",
            "CLM_TOT_CHRG_AMT\n",
            "CLM_ADMSN_DT\n",
            "CLM_IP_ADMSN_TYPE_CD\n",
            "CLM_SRC_IP_ADMSN_CD\n",
            "NCH_PTNT_STATUS_IND_CD\n",
            "CLM_PASS_THRU_PER_DIEM_AMT\n",
            "NCH_BENE_IP_DDCTBL_AMT\n",
            "NCH_BENE_PTA_COINSRNC_LBLTY_AM\n",
            "NCH_BENE_BLOOD_DDCTBL_LBLTY_AM\n",
            "NCH_PROFNL_CMPNT_CHRG_AMT\n",
            "NCH_IP_NCVRD_CHRG_AMT\n",
            "NCH_IP_TOT_DDCTN_AMT\n",
            "CLM_TOT_PPS_CPTL_AMT\n",
            "CLM_PPS_CPTL_FSP_AMT\n",
            "CLM_PPS_CPTL_OUTLIER_AMT\n",
            "CLM_PPS_CPTL_DSPRPRTNT_SHR_AMT\n",
            "CLM_PPS_CPTL_IME_AMT\n",
            "CLM_PPS_CPTL_EXCPTN_AMT\n",
            "CLM_PPS_OLD_CPTL_HLD_HRMLS_AMT\n",
            "CLM_PPS_CPTL_DRG_WT_NUM\n",
            "CLM_UTLZTN_DAY_CNT\n",
            "BENE_TOT_COINSRNC_DAYS_CNT\n",
            "BENE_LRD_USED_CNT\n",
            "CLM_NON_UTLZTN_DAYS_CNT\n",
            "NCH_BLOOD_PNTS_FRNSHD_QTY\n",
            "NCH_VRFD_NCVRD_STAY_FROM_DT\n",
            "NCH_VRFD_NCVRD_STAY_THRU_DT\n",
            "NCH_ACTV_OR_CVRD_LVL_CARE_THRU\n",
            "NCH_BENE_MDCR_BNFTS_EXHTD_DT_I\n",
            "NCH_BENE_DSCHRG_DT\n",
            "CLM_DRG_CD\n",
            "CLM_DRG_OUTLIER_STAY_CD\n",
            "NCH_DRG_OUTLIER_APRVD_PMT_AMT\n",
            "ADMTG_DGNS_CD\n",
            "PRNCPAL_DGNS_CD\n",
            "ICD_DGNS_CD1\n",
            "CLM_POA_IND_SW1\n",
            "ICD_DGNS_CD2\n",
            "CLM_POA_IND_SW2\n",
            "ICD_DGNS_CD3\n",
            "CLM_POA_IND_SW3\n",
            "ICD_DGNS_CD4\n",
            "CLM_POA_IND_SW4\n",
            "ICD_DGNS_CD5\n",
            "CLM_POA_IND_SW5\n",
            "ICD_DGNS_CD6\n",
            "CLM_POA_IND_SW6\n",
            "ICD_DGNS_CD7\n",
            "CLM_POA_IND_SW7\n",
            "ICD_DGNS_CD8\n",
            "CLM_POA_IND_SW8\n",
            "ICD_DGNS_CD9\n",
            "CLM_POA_IND_SW9\n",
            "ICD_DGNS_CD10\n",
            "CLM_POA_IND_SW10\n",
            "ICD_DGNS_CD11\n",
            "CLM_POA_IND_SW11\n",
            "ICD_DGNS_CD12\n",
            "CLM_POA_IND_SW12\n",
            "ICD_DGNS_CD13\n",
            "CLM_POA_IND_SW13\n",
            "ICD_DGNS_CD14\n",
            "CLM_POA_IND_SW14\n",
            "ICD_DGNS_CD15\n",
            "CLM_POA_IND_SW15\n",
            "ICD_DGNS_CD16\n",
            "CLM_POA_IND_SW16\n",
            "ICD_DGNS_CD17\n",
            "CLM_POA_IND_SW17\n",
            "ICD_DGNS_CD18\n",
            "CLM_POA_IND_SW18\n",
            "ICD_DGNS_CD19\n",
            "CLM_POA_IND_SW19\n",
            "ICD_DGNS_CD20\n",
            "CLM_POA_IND_SW20\n",
            "ICD_DGNS_CD21\n",
            "CLM_POA_IND_SW21\n",
            "ICD_DGNS_CD22\n",
            "CLM_POA_IND_SW22\n",
            "ICD_DGNS_CD23\n",
            "CLM_POA_IND_SW23\n",
            "ICD_DGNS_CD24\n",
            "CLM_POA_IND_SW24\n",
            "ICD_DGNS_CD25\n",
            "CLM_POA_IND_SW25\n",
            "FST_DGNS_E_CD\n",
            "ICD_DGNS_E_CD1\n",
            "CLM_E_POA_IND_SW1\n",
            "ICD_DGNS_E_CD2\n",
            "CLM_E_POA_IND_SW2\n",
            "ICD_DGNS_E_CD3\n",
            "CLM_E_POA_IND_SW3\n",
            "ICD_DGNS_E_CD4\n",
            "CLM_E_POA_IND_SW4\n",
            "ICD_DGNS_E_CD5\n",
            "CLM_E_POA_IND_SW5\n",
            "ICD_DGNS_E_CD6\n",
            "CLM_E_POA_IND_SW6\n",
            "ICD_DGNS_E_CD7\n",
            "CLM_E_POA_IND_SW7\n",
            "ICD_DGNS_E_CD8\n",
            "CLM_E_POA_IND_SW8\n",
            "ICD_DGNS_E_CD9\n",
            "CLM_E_POA_IND_SW9\n",
            "ICD_DGNS_E_CD10\n",
            "CLM_E_POA_IND_SW10\n",
            "ICD_DGNS_E_CD11\n",
            "CLM_E_POA_IND_SW11\n",
            "ICD_DGNS_E_CD12\n",
            "CLM_E_POA_IND_SW12\n",
            "ICD_PRCDR_CD1\n",
            "PRCDR_DT1\n",
            "ICD_PRCDR_CD2\n",
            "PRCDR_DT2\n",
            "ICD_PRCDR_CD3\n",
            "PRCDR_DT3\n",
            "ICD_PRCDR_CD4\n",
            "PRCDR_DT4\n",
            "ICD_PRCDR_CD5\n",
            "PRCDR_DT5\n",
            "ICD_PRCDR_CD6\n",
            "PRCDR_DT6\n",
            "ICD_PRCDR_CD7\n",
            "PRCDR_DT7\n",
            "ICD_PRCDR_CD8\n",
            "PRCDR_DT8\n",
            "ICD_PRCDR_CD9\n",
            "PRCDR_DT9\n",
            "ICD_PRCDR_CD10\n",
            "PRCDR_DT10\n",
            "ICD_PRCDR_CD11\n",
            "PRCDR_DT11\n",
            "ICD_PRCDR_CD12\n",
            "PRCDR_DT12\n",
            "ICD_PRCDR_CD13\n",
            "PRCDR_DT13\n",
            "ICD_PRCDR_CD14\n",
            "PRCDR_DT14\n",
            "ICD_PRCDR_CD15\n",
            "PRCDR_DT15\n",
            "ICD_PRCDR_CD16\n",
            "PRCDR_DT16\n",
            "ICD_PRCDR_CD17\n",
            "PRCDR_DT17\n",
            "ICD_PRCDR_CD18\n",
            "PRCDR_DT18\n",
            "ICD_PRCDR_CD19\n",
            "PRCDR_DT19\n",
            "ICD_PRCDR_CD20\n",
            "PRCDR_DT20\n",
            "ICD_PRCDR_CD21\n",
            "PRCDR_DT21\n",
            "ICD_PRCDR_CD22\n",
            "PRCDR_DT22\n",
            "ICD_PRCDR_CD23\n",
            "PRCDR_DT23\n",
            "ICD_PRCDR_CD24\n",
            "PRCDR_DT24\n",
            "ICD_PRCDR_CD25\n",
            "PRCDR_DT25\n",
            "IME_OP_CLM_VAL_AMT\n",
            "DSH_OP_CLM_VAL_AMT\n",
            "CLM_UNCOMPD_CARE_PMT_AMT\n",
            "CLM_LINE_NUM\n",
            "REV_CNTR\n",
            "HCPCS_CD\n",
            "REV_CNTR_DDCTBL_COINSRNC_CD\n"
          ]
        }
      ]
    },
    {
      "cell_type": "code",
      "source": [
        "hcpcs_codes = df['HCPCS_CD']\n",
        "npi_indiv_codes = df['AT_PHYSN_NPI']\n",
        "npi_org_codes = df['ORG_NPI_NUM']\n",
        "icd_adm_codes = df['ADMTG_DGNS_CD']\n",
        "icd_prim_codes = df['PRNCPAL_DGNS_CD']\n",
        "icd_ext_codes = df['FST_DGNS_E_CD']\n",
        "drg_claim_codes = df['CLM_DRG_CD']\n",
        "drg_outlier_pmt_codes = df['NCH_DRG_OUTLIER_APRVD_PMT_AMT']"
      ],
      "metadata": {
        "id": "VxyGYOEJ3E5c"
      },
      "execution_count": 75,
      "outputs": []
    },
    {
      "cell_type": "code",
      "source": [
        "hcpcs_frequency = hcpcs_codes.value_counts()\n",
        "print('HCPCS Codes Frequency:\\n', hcpcs_frequency)"
      ],
      "metadata": {
        "colab": {
          "base_uri": "https://localhost:8080/"
        },
        "collapsed": true,
        "id": "q4yNcbm49Xbs",
        "outputId": "0f38ae98-3dc4-44a8-c97b-8de46899f7f8"
      },
      "execution_count": 76,
      "outputs": [
        {
          "output_type": "stream",
          "name": "stdout",
          "text": [
            "HCPCS Codes Frequency:\n",
            " HCPCS_CD\n",
            "99221    8298\n",
            "G0444    7990\n",
            "96156    5080\n",
            "99408    4196\n",
            "99495    3867\n",
            "         ... \n",
            "S9361       1\n",
            "S9355       1\n",
            "S9374       1\n",
            "S9377       1\n",
            "G9829       1\n",
            "Name: count, Length: 106, dtype: int64\n"
          ]
        }
      ]
    },
    {
      "cell_type": "code",
      "source": [
        "npi_indiv_frequency = npi_indiv_codes.value_counts()\n",
        "print('Individual NPI Numbers Frequency:\\n', npi_indiv_frequency)"
      ],
      "metadata": {
        "colab": {
          "base_uri": "https://localhost:8080/"
        },
        "collapsed": true,
        "id": "u73PYzXKIvPA",
        "outputId": "2b59eb22-cc53-486a-844a-1dd7b11a53d7"
      },
      "execution_count": 77,
      "outputs": [
        {
          "output_type": "stream",
          "name": "stdout",
          "text": [
            "Individual NPI Numbers Frequency:\n",
            " AT_PHYSN_NPI\n",
            "9999868992    1479\n",
            "9999997494    1108\n",
            "9999907899    1012\n",
            "9999720698     756\n",
            "9999878397     662\n",
            "              ... \n",
            "9999275693       1\n",
            "9999887497       1\n",
            "9999801290       1\n",
            "9999500298       1\n",
            "9999202796       1\n",
            "Name: count, Length: 2463, dtype: int64\n"
          ]
        }
      ]
    },
    {
      "cell_type": "code",
      "source": [
        "npi_org_frequency = npi_org_codes.value_counts()\n",
        "print('Organization NPI Numbers Frequency:\\n', npi_org_frequency)"
      ],
      "metadata": {
        "colab": {
          "base_uri": "https://localhost:8080/"
        },
        "collapsed": true,
        "id": "1hcmx9MOIvIG",
        "outputId": "8d2ea172-4bc2-4dc8-f2f3-c31b346cd9e0"
      },
      "execution_count": 78,
      "outputs": [
        {
          "output_type": "stream",
          "name": "stdout",
          "text": [
            "Organization NPI Numbers Frequency:\n",
            " ORG_NPI_NUM\n",
            "1063523132    1093\n",
            "1275566200    1077\n",
            "1306950993    1009\n",
            "1265846273     756\n",
            "1144220823     655\n",
            "              ... \n",
            "1407898315       1\n",
            "1548602790       1\n",
            "1457345597       1\n",
            "1487900296       1\n",
            "1639431471       1\n",
            "Name: count, Length: 4902, dtype: int64\n"
          ]
        }
      ]
    },
    {
      "cell_type": "code",
      "source": [
        "icd_adm_frequency = icd_adm_codes.value_counts()\n",
        "print('Admission ICD Codes Frequency:\\n', icd_adm_frequency)"
      ],
      "metadata": {
        "colab": {
          "base_uri": "https://localhost:8080/"
        },
        "collapsed": true,
        "id": "SCD-5u76IvBi",
        "outputId": "de205ec3-b34b-4431-8e5a-dcbdf324e233"
      },
      "execution_count": 79,
      "outputs": [
        {
          "output_type": "stream",
          "name": "stdout",
          "text": [
            "Admission ICD Codes Frequency:\n",
            " ADMTG_DGNS_CD\n",
            "Z7682      2881\n",
            "T50901A    2541\n",
            "Z951       1694\n",
            "Z95818     1058\n",
            "C3490       940\n",
            "           ... \n",
            "E849          1\n",
            "A4152         1\n",
            "O00109        1\n",
            "I200          1\n",
            "C9200         1\n",
            "Name: count, Length: 65, dtype: int64\n"
          ]
        }
      ]
    },
    {
      "cell_type": "code",
      "source": [
        "icd_prim_frequency = icd_prim_codes.value_counts()\n",
        "print('Primary ICD Codes Frequency:\\n', icd_prim_frequency)"
      ],
      "metadata": {
        "colab": {
          "base_uri": "https://localhost:8080/"
        },
        "collapsed": true,
        "id": "w0T1Bu2EIu7J",
        "outputId": "7ce8aab7-83c2-4d98-d377-fc5c8e3df107"
      },
      "execution_count": 80,
      "outputs": [
        {
          "output_type": "stream",
          "name": "stdout",
          "text": [
            "Primary ICD Codes Frequency:\n",
            " PRNCPAL_DGNS_CD\n",
            "Z733      11469\n",
            "Z608       7216\n",
            "T7432X     3314\n",
            "Z604       3227\n",
            "Z7682      3092\n",
            "          ...  \n",
            "I25700        1\n",
            "I200          1\n",
            "E849          1\n",
            "A4152         1\n",
            "O00109        1\n",
            "Name: count, Length: 190, dtype: int64\n"
          ]
        }
      ]
    },
    {
      "cell_type": "code",
      "source": [
        "icd_ext_frequency = icd_ext_codes.value_counts()\n",
        "print('External Cause ICD Codes Frequency:\\n', icd_ext_frequency)"
      ],
      "metadata": {
        "colab": {
          "base_uri": "https://localhost:8080/"
        },
        "collapsed": true,
        "id": "weAyoi_CIu0Q",
        "outputId": "47a81241-e386-4fb2-be0d-63394e80dd69"
      },
      "execution_count": 81,
      "outputs": [
        {
          "output_type": "stream",
          "name": "stdout",
          "text": [
            "External Cause ICD Codes Frequency:\n",
            " FST_DGNS_E_CD\n",
            "W86    10445\n",
            "X58     7202\n",
            "W19     4899\n",
            "Y92     3291\n",
            "Y83     2488\n",
            "       ...  \n",
            "V28        1\n",
            "V78        1\n",
            "X93        1\n",
            "X80        1\n",
            "X72        1\n",
            "Name: count, Length: 137, dtype: int64\n"
          ]
        }
      ]
    },
    {
      "cell_type": "code",
      "source": [
        "drg_claim_frequency = drg_claim_codes.value_counts()\n",
        "print('DRG Claim Codes Frequency:\\n', drg_claim_frequency )"
      ],
      "metadata": {
        "colab": {
          "base_uri": "https://localhost:8080/"
        },
        "collapsed": true,
        "id": "E3cpD460IurA",
        "outputId": "36160909-425e-4b42-b53c-c76aa40245d7"
      },
      "execution_count": 82,
      "outputs": [
        {
          "output_type": "stream",
          "name": "stdout",
          "text": [
            "DRG Claim Codes Frequency:\n",
            " CLM_DRG_CD\n",
            "951.0    28831\n",
            "950.0     1456\n",
            "949.0     1332\n",
            "922.0     1110\n",
            "923.0     1015\n",
            "         ...  \n",
            "814.0        1\n",
            "918.0        1\n",
            "870.0        1\n",
            "812.0        1\n",
            "656.0        1\n",
            "Name: count, Length: 167, dtype: int64\n"
          ]
        }
      ]
    },
    {
      "cell_type": "code",
      "source": [
        "drg_outlier_pmt_frequency = drg_outlier_pmt_codes.value_counts()\n",
        "print('DRG Outlier Payment Codes Frequency:\\n', drg_outlier_pmt_frequency)"
      ],
      "metadata": {
        "colab": {
          "base_uri": "https://localhost:8080/"
        },
        "collapsed": true,
        "id": "wW6a4rC6IuPm",
        "outputId": "1c40229b-e2c5-42ee-db5b-6ae3e0a87776"
      },
      "execution_count": 83,
      "outputs": [
        {
          "output_type": "stream",
          "name": "stdout",
          "text": [
            "DRG Outlier Payment Codes Frequency:\n",
            " NCH_DRG_OUTLIER_APRVD_PMT_AMT\n",
            "0    58066\n",
            "Name: count, dtype: int64\n"
          ]
        }
      ]
    },
    {
      "cell_type": "code",
      "source": [
        "missing_hcpcs = hcpcs_codes.isnull().sum()\n",
        "print(f'Missing HCPCS Codes: {missing_hcpcs}')"
      ],
      "metadata": {
        "colab": {
          "base_uri": "https://localhost:8080/"
        },
        "id": "-6mIZldyNzrS",
        "outputId": "307c3647-6db2-4aaa-f862-594b7ed92e48"
      },
      "execution_count": 84,
      "outputs": [
        {
          "output_type": "stream",
          "name": "stdout",
          "text": [
            "Missing HCPCS Codes: 0\n"
          ]
        }
      ]
    },
    {
      "cell_type": "code",
      "source": [
        "missing_npi_indiv = npi_indiv_codes.isnull().sum()\n",
        "print(f'Missing Individual NPI Numbers: {missing_npi_indiv}')"
      ],
      "metadata": {
        "colab": {
          "base_uri": "https://localhost:8080/"
        },
        "id": "gOtQxQuaPR0I",
        "outputId": "1de719ed-a615-4bf1-883f-04446e16644d"
      },
      "execution_count": 85,
      "outputs": [
        {
          "output_type": "stream",
          "name": "stdout",
          "text": [
            "Missing Individual NPI Numbers: 0\n"
          ]
        }
      ]
    },
    {
      "cell_type": "code",
      "source": [
        "missing_npi_org = npi_org_codes.isnull().sum()\n",
        "print(f'Missing Organization NPI Numbers: {missing_npi_org}')"
      ],
      "metadata": {
        "colab": {
          "base_uri": "https://localhost:8080/"
        },
        "id": "d47jhVyRPRxh",
        "outputId": "e8d7a973-23ce-4e0f-b0be-9fc3b467ebd3"
      },
      "execution_count": 86,
      "outputs": [
        {
          "output_type": "stream",
          "name": "stdout",
          "text": [
            "Missing Organization NPI Numbers: 0\n"
          ]
        }
      ]
    },
    {
      "cell_type": "code",
      "source": [
        "missing_icd_adm = icd_adm_codes.isnull().sum()\n",
        "print(f'Missing Admission ICD Codes: {missing_icd_adm}')"
      ],
      "metadata": {
        "colab": {
          "base_uri": "https://localhost:8080/"
        },
        "id": "cYBg8Q2bPRuT",
        "outputId": "eea6bcca-1e01-485a-8fd8-242ac0690e88"
      },
      "execution_count": 87,
      "outputs": [
        {
          "output_type": "stream",
          "name": "stdout",
          "text": [
            "Missing Admission ICD Codes: 41938\n"
          ]
        }
      ]
    },
    {
      "cell_type": "code",
      "source": [
        "missing_icd_prim = icd_prim_codes.isnull().sum()\n",
        "print(f'Missing Primary ICD Codes: {missing_icd_prim}')"
      ],
      "metadata": {
        "colab": {
          "base_uri": "https://localhost:8080/"
        },
        "id": "pa7KwdjJPRri",
        "outputId": "a9e060a5-69c8-47f4-d0f6-88039fab3d60"
      },
      "execution_count": 88,
      "outputs": [
        {
          "output_type": "stream",
          "name": "stdout",
          "text": [
            "Missing Primary ICD Codes: 0\n"
          ]
        }
      ]
    },
    {
      "cell_type": "code",
      "source": [
        "missing_icd_ext = icd_ext_codes.isnull().sum()\n",
        "print(f'Missing External Cause ICD Codes: {missing_icd_ext}')"
      ],
      "metadata": {
        "colab": {
          "base_uri": "https://localhost:8080/"
        },
        "id": "6B5gXzXDPRoJ",
        "outputId": "a15d3526-c111-461e-e7a3-049618836dca"
      },
      "execution_count": 89,
      "outputs": [
        {
          "output_type": "stream",
          "name": "stdout",
          "text": [
            "Missing External Cause ICD Codes: 12541\n"
          ]
        }
      ]
    },
    {
      "cell_type": "code",
      "source": [
        "missing_drg_claim = drg_claim_codes.isnull().sum()\n",
        "print(f'Missing DRG Claim Codes: {missing_drg_claim}')"
      ],
      "metadata": {
        "colab": {
          "base_uri": "https://localhost:8080/"
        },
        "id": "dhhVqdyrPRlJ",
        "outputId": "4f57103a-5ee8-4004-9136-18e1d03dc741"
      },
      "execution_count": 90,
      "outputs": [
        {
          "output_type": "stream",
          "name": "stdout",
          "text": [
            "Missing DRG Claim Codes: 3262\n"
          ]
        }
      ]
    },
    {
      "cell_type": "code",
      "source": [
        "missing_drg_outlier_pmt = drg_outlier_pmt_codes.isnull().sum()\n",
        "print(f'Missing DRG Outlier Payment Codes: {missing_drg_outlier_pmt}')"
      ],
      "metadata": {
        "colab": {
          "base_uri": "https://localhost:8080/"
        },
        "id": "y3szAfF_PRhe",
        "outputId": "6ec36ebe-3ef3-412b-e6cb-6b56fe8fefd3"
      },
      "execution_count": 91,
      "outputs": [
        {
          "output_type": "stream",
          "name": "stdout",
          "text": [
            "Missing DRG Outlier Payment Codes: 0\n"
          ]
        }
      ]
    },
    {
      "cell_type": "code",
      "source": [
        "df['ADMTG_DGNS_CD'].fillna('MISSING', inplace=True)"
      ],
      "metadata": {
        "id": "FXcjt02zPRY3"
      },
      "execution_count": 92,
      "outputs": []
    },
    {
      "cell_type": "code",
      "source": [
        "df['CLM_DRG_CD'].fillna('MISSING', inplace=True)"
      ],
      "metadata": {
        "colab": {
          "base_uri": "https://localhost:8080/"
        },
        "collapsed": true,
        "id": "4Qa6jfkjSzfP",
        "outputId": "2fac9609-26b0-47d2-cc56-d1b7efee048f"
      },
      "execution_count": 93,
      "outputs": [
        {
          "output_type": "stream",
          "name": "stderr",
          "text": [
            "<ipython-input-93-671807f4036e>:1: FutureWarning: Setting an item of incompatible dtype is deprecated and will raise in a future error of pandas. Value 'MISSING' has dtype incompatible with float64, please explicitly cast to a compatible dtype first.\n",
            "  df['CLM_DRG_CD'].fillna('MISSING', inplace=True)\n"
          ]
        }
      ]
    },
    {
      "cell_type": "code",
      "source": [
        "df['NCH_DRG_OUTLIER_APRVD_PMT_AMT'].fillna('MISSING', inplace=True)"
      ],
      "metadata": {
        "id": "Dazb7gYfSzWj"
      },
      "execution_count": 94,
      "outputs": []
    },
    {
      "cell_type": "code",
      "source": [
        "print('Top 5 Most Common HCPCS Codes:\\n', hcpcs_frequency.head())"
      ],
      "metadata": {
        "colab": {
          "base_uri": "https://localhost:8080/"
        },
        "id": "Ldrjf4IdTWI3",
        "outputId": "071c9e74-916f-467a-d1f2-1309a7e2fe6b"
      },
      "execution_count": 95,
      "outputs": [
        {
          "output_type": "stream",
          "name": "stdout",
          "text": [
            "Top 5 Most Common HCPCS Codes:\n",
            " HCPCS_CD\n",
            "99221    8298\n",
            "G0444    7990\n",
            "96156    5080\n",
            "99408    4196\n",
            "99495    3867\n",
            "Name: count, dtype: int64\n"
          ]
        }
      ]
    },
    {
      "cell_type": "code",
      "source": [
        "print('Top 5 Most Common Individual NPI Numbers:\\n', npi_indiv_frequency.head())"
      ],
      "metadata": {
        "colab": {
          "base_uri": "https://localhost:8080/"
        },
        "id": "qdxHM7N4TWFO",
        "outputId": "a9dbd577-6c38-427e-c021-7ee25f392866"
      },
      "execution_count": 96,
      "outputs": [
        {
          "output_type": "stream",
          "name": "stdout",
          "text": [
            "Top 5 Most Common Individual NPI Numbers:\n",
            " AT_PHYSN_NPI\n",
            "9999868992    1479\n",
            "9999997494    1108\n",
            "9999907899    1012\n",
            "9999720698     756\n",
            "9999878397     662\n",
            "Name: count, dtype: int64\n"
          ]
        }
      ]
    },
    {
      "cell_type": "code",
      "source": [
        "print('Top 5 Most Common Organization NPI Numbers:\\n', npi_org_frequency.head())"
      ],
      "metadata": {
        "colab": {
          "base_uri": "https://localhost:8080/"
        },
        "id": "ydrFdQvZTV-I",
        "outputId": "0269e853-8fe8-40bb-d176-de72e9d64a52"
      },
      "execution_count": 97,
      "outputs": [
        {
          "output_type": "stream",
          "name": "stdout",
          "text": [
            "Top 5 Most Common Organization NPI Numbers:\n",
            " ORG_NPI_NUM\n",
            "1063523132    1093\n",
            "1275566200    1077\n",
            "1306950993    1009\n",
            "1265846273     756\n",
            "1144220823     655\n",
            "Name: count, dtype: int64\n"
          ]
        }
      ]
    },
    {
      "cell_type": "code",
      "source": [
        "print('Top 5 Most Common Admission ICD Codes:\\n', icd_adm_frequency.head())"
      ],
      "metadata": {
        "colab": {
          "base_uri": "https://localhost:8080/"
        },
        "id": "hKubBXe5UU_4",
        "outputId": "da2cc685-c3da-4ad6-cb8b-ed3e1ed301c6"
      },
      "execution_count": 98,
      "outputs": [
        {
          "output_type": "stream",
          "name": "stdout",
          "text": [
            "Top 5 Most Common Admission ICD Codes:\n",
            " ADMTG_DGNS_CD\n",
            "Z7682      2881\n",
            "T50901A    2541\n",
            "Z951       1694\n",
            "Z95818     1058\n",
            "C3490       940\n",
            "Name: count, dtype: int64\n"
          ]
        }
      ]
    },
    {
      "cell_type": "code",
      "source": [
        "print('Top 5 Most Common Primary ICD Codes:\\n', icd_prim_frequency.head())"
      ],
      "metadata": {
        "colab": {
          "base_uri": "https://localhost:8080/"
        },
        "id": "i78EV45zUU65",
        "outputId": "c2e3002d-5e85-4047-d1aa-27a3032b20c5"
      },
      "execution_count": 99,
      "outputs": [
        {
          "output_type": "stream",
          "name": "stdout",
          "text": [
            "Top 5 Most Common Primary ICD Codes:\n",
            " PRNCPAL_DGNS_CD\n",
            "Z733      11469\n",
            "Z608       7216\n",
            "T7432X     3314\n",
            "Z604       3227\n",
            "Z7682      3092\n",
            "Name: count, dtype: int64\n"
          ]
        }
      ]
    },
    {
      "cell_type": "code",
      "source": [
        "print('Top 5 Most Common External Cause ICD Codes:\\n', icd_ext_frequency.head())"
      ],
      "metadata": {
        "colab": {
          "base_uri": "https://localhost:8080/"
        },
        "id": "2kVcQocmUU0C",
        "outputId": "b1d5c2be-9afb-4026-8f07-8454800425aa"
      },
      "execution_count": 100,
      "outputs": [
        {
          "output_type": "stream",
          "name": "stdout",
          "text": [
            "Top 5 Most Common External Cause ICD Codes:\n",
            " FST_DGNS_E_CD\n",
            "W86    10445\n",
            "X58     7202\n",
            "W19     4899\n",
            "Y92     3291\n",
            "Y83     2488\n",
            "Name: count, dtype: int64\n"
          ]
        }
      ]
    },
    {
      "cell_type": "code",
      "source": [
        "print('Top 5 Most Common DRG Claim Codes:\\n', drg_claim_frequency.head())"
      ],
      "metadata": {
        "colab": {
          "base_uri": "https://localhost:8080/"
        },
        "id": "IgrDGXa9UUsa",
        "outputId": "0dd068df-fcbc-4d0c-e0d1-d9b1234c4e15"
      },
      "execution_count": 101,
      "outputs": [
        {
          "output_type": "stream",
          "name": "stdout",
          "text": [
            "Top 5 Most Common DRG Claim Codes:\n",
            " CLM_DRG_CD\n",
            "951.0    28831\n",
            "950.0     1456\n",
            "949.0     1332\n",
            "922.0     1110\n",
            "923.0     1015\n",
            "Name: count, dtype: int64\n"
          ]
        }
      ]
    },
    {
      "cell_type": "code",
      "source": [
        "print('Top 5 Most Common DRG Outlier Payment Codes:\\n', drg_outlier_pmt_frequency.head())"
      ],
      "metadata": {
        "colab": {
          "base_uri": "https://localhost:8080/"
        },
        "id": "_Nhz7lJVTVsl",
        "outputId": "7faf0bc8-b0a8-4f0a-c202-51e9ab5459fe"
      },
      "execution_count": 102,
      "outputs": [
        {
          "output_type": "stream",
          "name": "stdout",
          "text": [
            "Top 5 Most Common DRG Outlier Payment Codes:\n",
            " NCH_DRG_OUTLIER_APRVD_PMT_AMT\n",
            "0    58066\n",
            "Name: count, dtype: int64\n"
          ]
        }
      ]
    },
    {
      "cell_type": "code",
      "source": [
        "breast_cancer_related = df[df['PRNCPAL_DGNS_CD'].str.contains('C50', na=False)]\n",
        "common_drg_for_breast_cancer = breast_cancer_related['CLM_DRG_CD'].value_counts()\n",
        "print('Most Common DRG Claim Codes for patients with ICD Code C50 (Malignant Neoplasm of Breast):\\n', common_drg_for_breast_cancer)\n"
      ],
      "metadata": {
        "colab": {
          "base_uri": "https://localhost:8080/"
        },
        "id": "9s4EyvPEiYhL",
        "outputId": "c09934b8-074a-4ed1-9f5a-b5a091268e20"
      },
      "execution_count": 103,
      "outputs": [
        {
          "output_type": "stream",
          "name": "stdout",
          "text": [
            "Most Common DRG Claim Codes for patients with ICD Code C50 (Malignant Neoplasm of Breast):\n",
            " CLM_DRG_CD\n",
            "599.0    35\n",
            "583.0    34\n",
            "597.0    34\n",
            "598.0    25\n",
            "582.0    21\n",
            "Name: count, dtype: int64\n"
          ]
        }
      ]
    },
    {
      "cell_type": "code",
      "source": [
        "lung_cancer_related = df[df['PRNCPAL_DGNS_CD'].str.contains('C3490', na=False)]\n",
        "common_drg_for_lung_cancer = lung_cancer_related['CLM_DRG_CD'].value_counts()\n",
        "print('Most Common DRG Claim Codes for patients with ICD Code C3490 (Malignant Neoplasm Unspecified Part of Bronchus or Lung):\\n', common_drg_for_lung_cancer)\n"
      ],
      "metadata": {
        "colab": {
          "base_uri": "https://localhost:8080/"
        },
        "id": "80nGI_2IjU7X",
        "outputId": "afe7f966-c515-44e7-fb06-8d4674469101"
      },
      "execution_count": 104,
      "outputs": [
        {
          "output_type": "stream",
          "name": "stdout",
          "text": [
            "Most Common DRG Claim Codes for patients with ICD Code C3490 (Malignant Neoplasm Unspecified Part of Bronchus or Lung):\n",
            " CLM_DRG_CD\n",
            "181.0    688\n",
            "180.0    592\n",
            "182.0    576\n",
            "Name: count, dtype: int64\n"
          ]
        }
      ]
    }
  ]
}